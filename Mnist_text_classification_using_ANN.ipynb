{
  "cells": [
    {
      "cell_type": "code",
      "execution_count": 2,
      "metadata": {
        "id": "gFz1DvuAvTh2"
      },
      "outputs": [],
      "source": [
        "import tensorflow as tf"
      ]
    },
    {
      "cell_type": "code",
      "execution_count": 3,
      "metadata": {
        "colab": {
          "base_uri": "https://localhost:8080/"
        },
        "id": "thh1O98hvmQ2",
        "outputId": "d959b2a7-c60b-4f4a-9d44-c8a7f6764148"
      },
      "outputs": [],
      "source": [
        "mnist = tf.keras.datasets.mnist\n",
        "(x_train,y_train),(x_test,y_test) = mnist.load_data()"
      ]
    },
    {
      "cell_type": "code",
      "execution_count": 4,
      "metadata": {
        "colab": {
          "base_uri": "https://localhost:8080/"
        },
        "id": "YH2AMI-SIkap",
        "outputId": "f65e83c6-385e-448c-a9c8-e9726bdd2509"
      },
      "outputs": [
        {
          "data": {
            "text/plain": [
              "((60000, 28, 28), (10000, 28, 28))"
            ]
          },
          "execution_count": 4,
          "metadata": {},
          "output_type": "execute_result"
        }
      ],
      "source": [
        "x_train.shape,x_test.shape #This are the input features"
      ]
    },
    {
      "cell_type": "code",
      "execution_count": 5,
      "metadata": {
        "colab": {
          "base_uri": "https://localhost:8080/"
        },
        "id": "zq75ntnAI5LB",
        "outputId": "4b916726-a0ae-4bb5-f805-2030907a565e"
      },
      "outputs": [
        {
          "data": {
            "text/plain": [
              "((60000,), (10000,))"
            ]
          },
          "execution_count": 5,
          "metadata": {},
          "output_type": "execute_result"
        }
      ],
      "source": [
        "y_train.shape,y_test.shape #This are the output lables."
      ]
    },
    {
      "cell_type": "code",
      "execution_count": 6,
      "metadata": {
        "id": "ztYnFjWnxhil"
      },
      "outputs": [],
      "source": [
        "x_valid,x_train = (x_train[:5000]/255.),(x_train[5000:]/255.) # here we are deviding the trainig data by 255 bcoz evry image is of 255 pixels and to normalize every pixel we are dividing by 255.\n",
        "y_valid,y_train = (y_train[:5000]),(y_train[5000:]) # its the label data so dont need to normalize it."
      ]
    },
    {
      "cell_type": "code",
      "execution_count": 7,
      "metadata": {
        "colab": {
          "base_uri": "https://localhost:8080/"
        },
        "id": "b14U1c6fzuuw",
        "outputId": "e1a5f8e5-66f4-404f-e0d2-7eb3f737bbae"
      },
      "outputs": [
        {
          "data": {
            "text/plain": [
              "((55000, 28, 28), (5000, 28, 28))"
            ]
          },
          "execution_count": 7,
          "metadata": {},
          "output_type": "execute_result"
        }
      ],
      "source": [
        "x_train.shape,x_valid.shape "
      ]
    },
    {
      "cell_type": "code",
      "execution_count": 8,
      "metadata": {
        "colab": {
          "base_uri": "https://localhost:8080/"
        },
        "id": "k4UgGxAXIhDG",
        "outputId": "af249855-c488-4b59-b9e4-2ab0c6a4d9e1"
      },
      "outputs": [
        {
          "data": {
            "text/plain": [
              "((55000,), (5000,))"
            ]
          },
          "execution_count": 8,
          "metadata": {},
          "output_type": "execute_result"
        }
      ],
      "source": [
        "y_train.shape,y_valid.shape"
      ]
    },
    {
      "cell_type": "code",
      "execution_count": 9,
      "metadata": {
        "id": "dezySR1vJbB-"
      },
      "outputs": [],
      "source": [
        "x_test = x_test/255."
      ]
    },
    {
      "cell_type": "code",
      "execution_count": 10,
      "metadata": {
        "colab": {
          "base_uri": "https://localhost:8080/",
          "height": 300
        },
        "id": "IangI9ExJtDG",
        "outputId": "8ff877a8-486f-4ef6-fcb4-55beb4040ab5"
      },
      "outputs": [
        {
          "data": {
            "image/png": "[encoded data removed]",
            "text/plain": [
              "<Figure size 432x288 with 1 Axes>"
            ]
          },
          "metadata": {
            "needs_background": "light"
          },
          "output_type": "display_data"
        },
        {
          "name": "stdout",
          "output_type": "stream",
          "text": [
            "***********************************\n"
          ]
        },
        {
          "data": {
            "text/plain": [
              "7"
            ]
          },
          "execution_count": 10,
          "metadata": {},
          "output_type": "execute_result"
        }
      ],
      "source": [
        "import matplotlib.pyplot as plt\n",
        "plt.imshow(x_train[0]) #its showing what the image is represesnting.\n",
        "plt.show()\n",
        "\n",
        "print(\"*\"*35)\n",
        "y_train[0] #its showing what the lable is."
      ]
    },
    {
      "cell_type": "code",
      "execution_count": 11,
      "metadata": {
        "colab": {
          "base_uri": "https://localhost:8080/",
          "height": 863
        },
        "id": "VCj9UW_WJ-ne",
        "outputId": "cd8c6b11-6dea-477f-ba15-0a6d0c64484e"
      },
      "outputs": [
        {
          "data": {
            "image/png": "[encoded data removed]",
            "text/plain": [
              "<Figure size 720x720 with 2 Axes>"
            ]
          },
          "metadata": {
            "needs_background": "light"
          },
          "output_type": "display_data"
        }
      ],
      "source": [
        "#lets draw a hitmap too see image presentation\n",
        "import seaborn as sns\n",
        "plt.figure(figsize=(10,10))\n",
        "sns.heatmap(x_train[0],annot=True)\n",
        "plt.show()"
      ]
    },
    {
      "cell_type": "code",
      "execution_count": 12,
      "metadata": {
        "id": "zuvusejvLF_f"
      },
      "outputs": [],
      "source": [
        "''' now in the above image its shown that every datapoint is of 28 * 28 pixels of size i.e \n",
        "    it is in 2D array form,so before apply it to model we need to make it 1D form,for that we going to appply flattening.'''\n",
        "  \n",
        "LAYERS = [tf.keras.layers.Flatten(input_shape=(28,28),name=\"Flattening\"),\n",
        "          tf.keras.layers.Dense(300,activation=\"relu\",name=\"hidden_layer1\"),\n",
        "           tf.keras.layers.Dense(100,activation=\"relu\",name=\"hidden_layer2\"),\n",
        "            tf.keras.layers.Dense(10,activation=\"softmax\",name=\"output_layer1\")\n",
        "]\n"
      ]
    },
    {
      "cell_type": "code",
      "execution_count": 13,
      "metadata": {
        "id": "-sNLk0yUP25n"
      },
      "outputs": [],
      "source": [
        "model = tf.keras.models.Sequential(LAYERS)"
      ]
    },
    {
      "cell_type": "code",
      "execution_count": 14,
      "metadata": {
        "colab": {
          "base_uri": "https://localhost:8080/"
        },
        "id": "6WzzhJzdQGvx",
        "outputId": "16f96768-a4e5-4e81-cbd2-f3375b186498"
      },
      "outputs": [
        {
          "name": "stdout",
          "output_type": "stream",
          "text": [
            "Model: \"sequential\"\n",
            "_________________________________________________________________\n",
            "Layer (type)                 Output Shape              Param #   \n",
            "=================================================================\n",
            "Flattening (Flatten)         (None, 784)               0         \n",
            "_________________________________________________________________\n",
            "hidden_layer1 (Dense)        (None, 300)               235500    \n",
            "_________________________________________________________________\n",
            "hidden_layer2 (Dense)        (None, 100)               30100     \n",
            "_________________________________________________________________\n",
            "output_layer1 (Dense)        (None, 10)                1010      \n",
            "=================================================================\n",
            "Total params: 266,610\n",
            "Trainable params: 266,610\n",
            "Non-trainable params: 0\n",
            "_________________________________________________________________\n"
          ]
        }
      ],
      "source": [
        "model.summary()"
      ]
    },
    {
      "cell_type": "code",
      "execution_count": 15,
      "metadata": {
        "colab": {
          "base_uri": "https://localhost:8080/",
          "height": 104
        },
        "id": "BxjWZWmoRWwA",
        "outputId": "b231992b-49c1-4d73-a634-c39e1c7b23db"
      },
      "outputs": [
        {
          "data": {
            "text/plain": [
              "'\\nlets see how to calculate trainable parameter?\\nin the first input layers there is no paramter coz obviously there are no weights.\\nin the second layer there are 300 weights and 784 input points  and 300 biases which is equal to 784*300+300 = 235500\\nin the third layer there are 100 weights and 300 input points  and 300 biases which is equal to 300*100+100 = 30100\\nin the output layer there are 10 weights and 100 input points  and 10 biases which is equal to 100*10+10 = 1010\\n'"
            ]
          },
          "execution_count": 15,
          "metadata": {},
          "output_type": "execute_result"
        }
      ],
      "source": [
        "'''\n",
        "lets see how to calculate trainable parameter?\n",
        "in the first input layers there is no paramter coz obviously there are no weights.\n",
        "in the second layer there are 300 weights and 784 input points  and 300 biases which is equal to 784*300+300 = 235500\n",
        "in the third layer there are 100 weights and 300 input points  and 300 biases which is equal to 300*100+100 = 30100\n",
        "in the output layer there are 10 weights and 100 input points  and 10 biases which is equal to 100*10+10 = 1010\n",
        "'''\n"
      ]
    },
    {
      "cell_type": "code",
      "execution_count": 16,
      "metadata": {
        "id": "iW8fLPAtUBRL"
      },
      "outputs": [],
      "source": [
        "LOSS = 'sparse_categorical_crossentropy'\n",
        "OPTIMIZER = \"SGD\"\n",
        "METRICS = [\"accuracy\"]\n",
        "model.compile(loss=LOSS,optimizer=OPTIMIZER,metrics=METRICS)"
      ]
    },
    {
      "cell_type": "code",
      "execution_count": 17,
      "metadata": {
        "colab": {
          "base_uri": "https://localhost:8080/"
        },
        "id": "vyC4Mux3Ukq0",
        "outputId": "7c40626a-fa11-406f-d5c0-a73e7163d761"
      },
      "outputs": [
        {
          "name": "stdout",
          "output_type": "stream",
          "text": [
            "Epoch 1/10\n",
            "1719/1719 [==============================] - 8s 4ms/step - loss: 0.6292 - accuracy: 0.8408 - val_loss: 0.3048 - val_accuracy: 0.9154\n",
            "Epoch 2/10\n",
            "1719/1719 [==============================] - 6s 4ms/step - loss: 0.2866 - accuracy: 0.9172 - val_loss: 0.2380 - val_accuracy: 0.9342\n",
            "Epoch 3/10\n",
            "1719/1719 [==============================] - 7s 4ms/step - loss: 0.2326 - accuracy: 0.9332 - val_loss: 0.1971 - val_accuracy: 0.9438\n",
            "Epoch 4/10\n",
            "1719/1719 [==============================] - 6s 4ms/step - loss: 0.1983 - accuracy: 0.9431 - val_loss: 0.1749 - val_accuracy: 0.9510\n",
            "Epoch 5/10\n",
            "1719/1719 [==============================] - 6s 4ms/step - loss: 0.1723 - accuracy: 0.9504 - val_loss: 0.1554 - val_accuracy: 0.9564\n",
            "Epoch 6/10\n",
            "1719/1719 [==============================] - 7s 4ms/step - loss: 0.1530 - accuracy: 0.9565 - val_loss: 0.1433 - val_accuracy: 0.9614\n",
            "Epoch 7/10\n",
            "1719/1719 [==============================] - 6s 4ms/step - loss: 0.1376 - accuracy: 0.9607 - val_loss: 0.1293 - val_accuracy: 0.9654oss: 0.1 - ETA: 0s\n",
            "Epoch 8/10\n",
            "1719/1719 [==============================] - 7s 4ms/step - loss: 0.1246 - accuracy: 0.9645 - val_loss: 0.1204 - val_accuracy: 0.9674\n",
            "Epoch 9/10\n",
            "1719/1719 [==============================] - 7s 4ms/step - loss: 0.1133 - accuracy: 0.9675 - val_loss: 0.1141 - val_accuracy: 0.9698\n",
            "Epoch 10/10\n",
            "1719/1719 [==============================] - 7s 4ms/step - loss: 0.1042 - accuracy: 0.9700 - val_loss: 0.1088 - val_accuracy: 0.9702\n"
          ]
        }
      ],
      "source": [
        "'''\n",
        "epochs = how many times your model shoud go through all the training dataset.\n",
        "batch_size = how many data you want to pass in one go\n",
        "'''\n",
        "BATCH = 32\n",
        "EPOCH = 10\n",
        "VALIDATION_SET = (x_valid,y_valid)\n",
        "HISTORY = model.fit(x_train,y_train,epochs=EPOCH,validation_data=VALIDATION_SET)\n",
        "\n",
        "# the weights updation is dependent on batch_size in our case it is 32, so training_data/32 which is 55000/32=1719."
      ]
    },
    {
      "cell_type": "code",
      "execution_count": 18,
      "metadata": {
        "colab": {
          "base_uri": "https://localhost:8080/"
        },
        "id": "zT63yO56Wkz9",
        "outputId": "bb7ca525-f6fb-41d4-996a-4d6834f773eb"
      },
      "outputs": [
        {
          "name": "stdout",
          "output_type": "stream",
          "text": [
            "313/313 [==============================] - 1s 3ms/step - loss: 0.1125 - accuracy: 0.9677: 0s - loss: 0.1504 - \n"
          ]
        },
        {
          "data": {
            "text/plain": [
              "[0.11246534436941147, 0.9677000045776367]"
            ]
          },
          "execution_count": 18,
          "metadata": {},
          "output_type": "execute_result"
        }
      ],
      "source": [
        "model.evaluate(x_test,y_test)"
      ]
    },
    {
      "cell_type": "code",
      "execution_count": 19,
      "metadata": {
        "id": "yQU8w6BJYqAI"
      },
      "outputs": [],
      "source": [
        "model.save(\"Model.h5\") # h5 is the extension to save keras models"
      ]
    },
    {
      "cell_type": "code",
      "execution_count": 20,
      "metadata": {
        "colab": {
          "base_uri": "https://localhost:8080/"
        },
        "id": "q_zO6mD-Y8e6",
        "outputId": "988e9da1-ce94-43b1-89fb-0595bb4affc2"
      },
      "outputs": [
        {
          "data": {
            "text/plain": [
              "<keras.callbacks.History at 0x1afd0f819b0>"
            ]
          },
          "execution_count": 20,
          "metadata": {},
          "output_type": "execute_result"
        }
      ],
      "source": [
        "HISTORY"
      ]
    },
    {
      "cell_type": "code",
      "execution_count": 21,
      "metadata": {
        "id": "9CojlZF8Z8Q3"
      },
      "outputs": [],
      "source": [
        "HISTORY = HISTORY.history # This returns the dictioanry of information related to accuracy,loss of model."
      ]
    },
    {
      "cell_type": "code",
      "execution_count": 22,
      "metadata": {
        "colab": {
          "base_uri": "https://localhost:8080/",
          "height": 363
        },
        "id": "YIMXORCNZ_AY",
        "outputId": "a186bf7a-dd5c-434c-d3e4-41ae536c5cda"
      },
      "outputs": [
        {
          "data": {
            "text/html": [
              "<div>\n",
              "<style scoped>\n",
              "    .dataframe tbody tr th:only-of-type {\n",
              "        vertical-align: middle;\n",
              "    }\n",
              "\n",
              "    .dataframe tbody tr th {\n",
              "        vertical-align: top;\n",
              "    }\n",
              "\n",
              "    .dataframe thead th {\n",
              "        text-align: right;\n",
              "    }\n",
              "</style>\n",
              "<table border=\"1\" class=\"dataframe\">\n",
              "  <thead>\n",
              "    <tr style=\"text-align: right;\">\n",
              "      <th></th>\n",
              "      <th>loss</th>\n",
              "      <th>accuracy</th>\n",
              "      <th>val_loss</th>\n",
              "      <th>val_accuracy</th>\n",
              "    </tr>\n",
              "  </thead>\n",
              "  <tbody>\n",
              "    <tr>\n",
              "      <th>0</th>\n",
              "      <td>0.629208</td>\n",
              "      <td>0.840764</td>\n",
              "      <td>0.304811</td>\n",
              "      <td>0.9154</td>\n",
              "    </tr>\n",
              "    <tr>\n",
              "      <th>1</th>\n",
              "      <td>0.286615</td>\n",
              "      <td>0.917236</td>\n",
              "      <td>0.237977</td>\n",
              "      <td>0.9342</td>\n",
              "    </tr>\n",
              "    <tr>\n",
              "      <th>2</th>\n",
              "      <td>0.232580</td>\n",
              "      <td>0.933164</td>\n",
              "      <td>0.197115</td>\n",
              "      <td>0.9438</td>\n",
              "    </tr>\n",
              "    <tr>\n",
              "      <th>3</th>\n",
              "      <td>0.198263</td>\n",
              "      <td>0.943091</td>\n",
              "      <td>0.174918</td>\n",
              "      <td>0.9510</td>\n",
              "    </tr>\n",
              "    <tr>\n",
              "      <th>4</th>\n",
              "      <td>0.172338</td>\n",
              "      <td>0.950382</td>\n",
              "      <td>0.155398</td>\n",
              "      <td>0.9564</td>\n",
              "    </tr>\n",
              "    <tr>\n",
              "      <th>5</th>\n",
              "      <td>0.152990</td>\n",
              "      <td>0.956545</td>\n",
              "      <td>0.143345</td>\n",
              "      <td>0.9614</td>\n",
              "    </tr>\n",
              "    <tr>\n",
              "      <th>6</th>\n",
              "      <td>0.137628</td>\n",
              "      <td>0.960691</td>\n",
              "      <td>0.129250</td>\n",
              "      <td>0.9654</td>\n",
              "    </tr>\n",
              "    <tr>\n",
              "      <th>7</th>\n",
              "      <td>0.124600</td>\n",
              "      <td>0.964527</td>\n",
              "      <td>0.120430</td>\n",
              "      <td>0.9674</td>\n",
              "    </tr>\n",
              "    <tr>\n",
              "      <th>8</th>\n",
              "      <td>0.113297</td>\n",
              "      <td>0.967491</td>\n",
              "      <td>0.114068</td>\n",
              "      <td>0.9698</td>\n",
              "    </tr>\n",
              "    <tr>\n",
              "      <th>9</th>\n",
              "      <td>0.104208</td>\n",
              "      <td>0.970018</td>\n",
              "      <td>0.108800</td>\n",
              "      <td>0.9702</td>\n",
              "    </tr>\n",
              "  </tbody>\n",
              "</table>\n",
              "</div>"
            ],
            "text/plain": [
              "       loss  accuracy  val_loss  val_accuracy\n",
              "0  0.629208  0.840764  0.304811        0.9154\n",
              "1  0.286615  0.917236  0.237977        0.9342\n",
              "2  0.232580  0.933164  0.197115        0.9438\n",
              "3  0.198263  0.943091  0.174918        0.9510\n",
              "4  0.172338  0.950382  0.155398        0.9564\n",
              "5  0.152990  0.956545  0.143345        0.9614\n",
              "6  0.137628  0.960691  0.129250        0.9654\n",
              "7  0.124600  0.964527  0.120430        0.9674\n",
              "8  0.113297  0.967491  0.114068        0.9698\n",
              "9  0.104208  0.970018  0.108800        0.9702"
            ]
          },
          "execution_count": 22,
          "metadata": {},
          "output_type": "execute_result"
        }
      ],
      "source": [
        "# lets visualize the performance of model\n",
        "import pandas as pd\n",
        "data  = pd.DataFrame(HISTORY)\n",
        "data"
      ]
    },
    {
      "cell_type": "code",
      "execution_count": 23,
      "metadata": {
        "colab": {
          "base_uri": "https://localhost:8080/",
          "height": 487
        },
        "id": "cXS80aJjaXE5",
        "outputId": "5172373c-452d-4f56-ef21-2691a8cb8516"
      },
      "outputs": [
        {
          "data": {
            "image/png": "[encoded data removed]",
            "text/plain": [
              "<Figure size 504x576 with 1 Axes>"
            ]
          },
          "metadata": {
            "needs_background": "light"
          },
          "output_type": "display_data"
        }
      ],
      "source": [
        "data.plot(figsize=(7,8))\n",
        "plt.grid(True)\n",
        "plt.gca().set_ylim(0,1)\n",
        "plt.show()"
      ]
    },
    {
      "cell_type": "code",
      "execution_count": 24,
      "metadata": {
        "id": "ExfG1AFRak4_"
      },
      "outputs": [],
      "source": [
        "# lets see how to import and evaluate model again on test data\n",
        "model = tf.keras.models.load_model(\"Model.h5\")"
      ]
    },
    {
      "cell_type": "code",
      "execution_count": 25,
      "metadata": {
        "colab": {
          "base_uri": "https://localhost:8080/"
        },
        "id": "YWzpgc_SOifz",
        "outputId": "6af5b5b5-b072-4aaa-d31d-8bd0acfd4c96"
      },
      "outputs": [
        {
          "name": "stdout",
          "output_type": "stream",
          "text": [
            "313/313 [==============================] - 1s 3ms/step - loss: 0.1125 - accuracy: 0.9677\n"
          ]
        },
        {
          "data": {
            "text/plain": [
              "[0.11246534436941147, 0.9677000045776367]"
            ]
          },
          "execution_count": 25,
          "metadata": {},
          "output_type": "execute_result"
        }
      ],
      "source": [
        "model.evaluate(x_test,y_test)"
      ]
    },
    {
      "cell_type": "code",
      "execution_count": 26,
      "metadata": {
        "colab": {
          "base_uri": "https://localhost:8080/"
        },
        "id": "CxUajkWBO0eU",
        "outputId": "bd4bc2eb-4776-4522-e1b6-2399ef3e7fb9"
      },
      "outputs": [
        {
          "data": {
            "text/plain": [
              "array([[5.4086489e-05, 7.5270458e-07, 4.0546380e-04, 1.6677313e-03,\n",
              "        1.5978377e-07, 4.6927475e-05, 3.4010696e-09, 9.9773872e-01,\n",
              "        1.0072815e-05, 7.6033852e-05],\n",
              "       [1.0623094e-04, 6.2057399e-05, 9.9347681e-01, 6.0803005e-03,\n",
              "        9.2133821e-11, 1.4988052e-04, 5.6968904e-05, 2.2976241e-09,\n",
              "        6.7799643e-05, 2.0409070e-10],\n",
              "       [3.3965855e-05, 9.9006528e-01, 1.8393043e-03, 9.2026760e-04,\n",
              "        5.3708075e-04, 6.9096766e-04, 5.4772175e-04, 4.1094241e-03,\n",
              "        1.1099117e-03, 1.4623105e-04]], dtype=float32)"
            ]
          },
          "execution_count": 26,
          "metadata": {},
          "output_type": "execute_result"
        }
      ],
      "source": [
        "x_new = x_test[:3]\n",
        "y_new = y_test[:3]\n",
        "pred = model.predict(x_new) # this will give array of probability of evry digit of what model predicted.\n",
        "pred"
      ]
    },
    {
      "cell_type": "code",
      "execution_count": 27,
      "metadata": {
        "colab": {
          "base_uri": "https://localhost:8080/"
        },
        "id": "bRgntBj_PVPc",
        "outputId": "7949764d-d071-4437-fe2a-7ee80d0b8285"
      },
      "outputs": [
        {
          "data": {
            "text/plain": [
              "array([[0.  , 0.  , 0.  , 0.  , 0.  , 0.  , 0.  , 1.  , 0.  , 0.  ],\n",
              "       [0.  , 0.  , 0.99, 0.01, 0.  , 0.  , 0.  , 0.  , 0.  , 0.  ],\n",
              "       [0.  , 0.99, 0.  , 0.  , 0.  , 0.  , 0.  , 0.  , 0.  , 0.  ]],\n",
              "      dtype=float32)"
            ]
          },
          "execution_count": 27,
          "metadata": {},
          "output_type": "execute_result"
        }
      ],
      "source": [
        "# lets round the probabilities so that we can get a better idea what model is predicted\n",
        "pred.round(2)"
      ]
    },
    {
      "cell_type": "code",
      "execution_count": 28,
      "metadata": {
        "colab": {
          "base_uri": "https://localhost:8080/"
        },
        "id": "-9xYJ9_iPsSb",
        "outputId": "cb4fbbcb-4654-43d5-9143-55190300bd66"
      },
      "outputs": [
        {
          "data": {
            "text/plain": [
              "array([7, 2, 1], dtype=int64)"
            ]
          },
          "execution_count": 28,
          "metadata": {},
          "output_type": "execute_result"
        }
      ],
      "source": [
        "import numpy as np\n",
        "y_pred = np.argmax(pred,axis=-1)\n",
        "y_pred"
      ]
    },
    {
      "cell_type": "code",
      "execution_count": 29,
      "metadata": {
        "colab": {
          "base_uri": "https://localhost:8080/",
          "height": 861
        },
        "id": "BH4lSMbOQka7",
        "outputId": "4b68fe60-ec9d-45b9-c78b-182d7e3ccb83"
      },
      "outputs": [
        {
          "name": "stdout",
          "output_type": "stream",
          "text": [
            "-+--+--+--+--+--+--+--+--+--+--+--+--+--+--+--+--+--+--+--+-\n"
          ]
        },
        {
          "data": {
            "image/png": "[encoded data removed]",
            "text/plain": [
              "<Figure size 432x288 with 1 Axes>"
            ]
          },
          "metadata": {
            "needs_background": "light"
          },
          "output_type": "display_data"
        },
        {
          "name": "stdout",
          "output_type": "stream",
          "text": [
            "-+--+--+--+--+--+--+--+--+--+--+--+--+--+--+--+--+--+--+--+-\n"
          ]
        },
        {
          "data": {
            "image/png": "[encoded data removed]",
            "text/plain": [
              "<Figure size 432x288 with 1 Axes>"
            ]
          },
          "metadata": {
            "needs_background": "light"
          },
          "output_type": "display_data"
        },
        {
          "name": "stdout",
          "output_type": "stream",
          "text": [
            "-+--+--+--+--+--+--+--+--+--+--+--+--+--+--+--+--+--+--+--+-\n"
          ]
        },
        {
          "data": {
            "image/png": "[encoded data removed]",
            "text/plain": [
              "<Figure size 432x288 with 1 Axes>"
            ]
          },
          "metadata": {
            "needs_background": "light"
          },
          "output_type": "display_data"
        }
      ],
      "source": [
        "# lets visualise the prediction,actual value.\n",
        "\n",
        "for data,pred,actual in zip(x_new,y_pred,y_new):\n",
        "  plt.imshow(data)\n",
        "  plt.title(f\"actual {actual},predicted  {pred}\")\n",
        "  print(\"-+-\" * 20)\n",
        "  plt.show()"
      ]
    },
    {
      "cell_type": "code",
      "execution_count": null,
      "metadata": {
        "id": "HauIxl4_Sd1T"
      },
      "outputs": [],
      "source": []
    },
    {
      "cell_type": "code",
      "execution_count": null,
      "metadata": {},
      "outputs": [],
      "source": []
    }
  ],
  "metadata": {
    "accelerator": "GPU",
    "colab": {
      "name": "Untitled1.ipynb",
      "provenance": []
    },
    "gpuClass": "standard",
    "kernelspec": {
      "display_name": "Python 3.6.5 ('Deep_Learning')",
      "language": "python",
      "name": "python3"
    },
    "language_info": {
      "codemirror_mode": {
        "name": "ipython",
        "version": 3
      },
      "file_extension": ".py",
      "mimetype": "text/x-python",
      "name": "python",
      "nbconvert_exporter": "python",
      "pygments_lexer": "ipython3",
      "version": "3.6.5"
    },
    "vscode": {
      "interpreter": {
        "hash": "7027936f8239e82e305a53f01cd1acdbc1dbfd894cbe4ff9071175a35a274320"
      }
    }
  },
  "nbformat": 4,
  "nbformat_minor": 0
}
